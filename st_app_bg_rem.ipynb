{
 "cells": [
  {
   "cell_type": "code",
   "execution_count": 38,
   "metadata": {},
   "outputs": [
    {
     "name": "stdout",
     "output_type": "stream",
     "text": [
      "Overwriting bg_rem.py\n"
     ]
    }
   ],
   "source": [
    "%%writefile bg_rem.py\n",
    "\n",
    "import streamlit as st\n",
    "import requests\n",
    "from PIL import Image\n",
    "from rembg import remove\n",
    "from io import BytesIO\n",
    "\n",
    "\n",
    "\n",
    "# ---- SIDEBAR ----\n",
    "with st.sidebar:\n",
    "    st.title(\"Background Removal\")\n",
    "    st.header(\"Please upload your picture that needs background removal\")\n",
    "    uploaded_file = st.file_uploader(\"Choose an image...\", type=[\"jpg\", \"jpeg\", \"png\"])\n",
    "    submit = st.button('Submit')\n",
    "\n",
    "if submit:\n",
    "\n",
    "    if uploaded_file is not None:\n",
    "        #response = requests.post(\n",
    "        #    \"https://api.rembg.com/v1/remove\",\n",
    "        #    files={\"image\": uploaded_file},\n",
    "        #    headers={\"Authorization\": \"ApiKey YOUR_API_KEY\"},\n",
    "        #)\n",
    "\n",
    "        #img = Image.open(BytesIO(response.content))\n",
    "        \n",
    "        st.header(\"Image after background removed\")\n",
    "\n",
    "        img  = remove(Image.open(uploaded_file))\n",
    "        new_image = img.resize((400, 200))\n",
    "\n",
    "        st.image(new_image, caption=\"Background Removed Image\", use_column_width=True)\n",
    "\n",
    "        # Download button\n",
    "        buffered = BytesIO()\n",
    "        img.save(buffered, format=\"PNG\")\n",
    "        byte_im = buffered.getvalue()\n",
    "        btn = st.download_button(\n",
    "          label=\"Download Image\",\n",
    "          data=byte_im,\n",
    "          file_name=\"output.png\",\n",
    "          mime=\"image/png\",\n",
    "          )\n",
    "        #download_button_str = download_button(buffered.getvalue(), \"background_removed.png\", \"Download Image\")\n",
    "        #st.markdown(btn, unsafe_allow_html=True)\n",
    "\n"
   ]
  },
  {
   "cell_type": "code",
   "execution_count": null,
   "metadata": {},
   "outputs": [
    {
     "name": "stdout",
     "output_type": "stream",
     "text": [
      "\u001b[0m\r\n",
      "\u001b[34m\u001b[1m  You can now view your Streamlit app in your browser.\u001b[0m\r\n",
      "\u001b[0m\r\n",
      "\u001b[34m  Local URL: \u001b[0m\u001b[1mhttp://localhost:8501\u001b[0m\r\n",
      "\u001b[34m  Network URL: \u001b[0m\u001b[1mhttp://192.168.0.19:8501\u001b[0m\r\n",
      "\u001b[0m\r\n"
     ]
    }
   ],
   "source": [
    "!streamlit run bg_rem.py"
   ]
  },
  {
   "cell_type": "code",
   "execution_count": null,
   "metadata": {},
   "outputs": [],
   "source": []
  }
 ],
 "metadata": {
  "kernelspec": {
   "display_name": "Python 3",
   "language": "python",
   "name": "python3"
  },
  "language_info": {
   "codemirror_mode": {
    "name": "ipython",
    "version": 3
   },
   "file_extension": ".py",
   "mimetype": "text/x-python",
   "name": "python",
   "nbconvert_exporter": "python",
   "pygments_lexer": "ipython3",
   "version": "3.7.4"
  }
 },
 "nbformat": 4,
 "nbformat_minor": 2
}
